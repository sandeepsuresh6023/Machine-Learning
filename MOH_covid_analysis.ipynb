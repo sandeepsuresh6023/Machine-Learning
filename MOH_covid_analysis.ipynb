{
  "nbformat": 4,
  "nbformat_minor": 0,
  "metadata": {
    "colab": {
      "name": "MOH_covid_analysis.ipynb",
      "provenance": [],
      "authorship_tag": "ABX9TyMHSGwaeQ0nOkL1MJovKCCH",
      "include_colab_link": true
    },
    "kernelspec": {
      "name": "python3",
      "display_name": "Python 3"
    }
  },
  "cells": [
    {
      "cell_type": "markdown",
      "metadata": {
        "id": "view-in-github",
        "colab_type": "text"
      },
      "source": [
        "<a href=\"https://colab.research.google.com/github/sandeepsuresh6023/Machine-Learning/blob/master/MOH_covid_analysis.ipynb\" target=\"_parent\"><img src=\"https://colab.research.google.com/assets/colab-badge.svg\" alt=\"Open In Colab\"/></a>"
      ]
    },
    {
      "cell_type": "code",
      "metadata": {
        "id": "odem97dNwM4_",
        "outputId": "3fa6e068-df1f-49a9-e847-854b874f5564",
        "colab": {
          "base_uri": "https://localhost:8080/",
          "height": 34
        }
      },
      "source": [
        "from google.colab import drive\n",
        "drive.mount('/content/drive/')"
      ],
      "execution_count": 21,
      "outputs": [
        {
          "output_type": "stream",
          "text": [
            "Drive already mounted at /content/drive/; to attempt to forcibly remount, call drive.mount(\"/content/drive/\", force_remount=True).\n"
          ],
          "name": "stdout"
        }
      ]
    },
    {
      "cell_type": "code",
      "metadata": {
        "id": "VShvURoLw6Wp"
      },
      "source": [
        "import pandas as pd\n",
        "import numpy as np\n",
        "import copy"
      ],
      "execution_count": 22,
      "outputs": []
    },
    {
      "cell_type": "code",
      "metadata": {
        "id": "CuTMvXIBxLZL"
      },
      "source": [
        "population_data = '/content/drive/My Drive/MOH/Population_Data.xls'\n",
        "analyst_data = '/content/drive/My Drive/MOH/Analyst_Lab_Data.xls'"
      ],
      "execution_count": 23,
      "outputs": []
    },
    {
      "cell_type": "code",
      "metadata": {
        "id": "1qW5bHWU-bqd"
      },
      "source": [
        "population_data_df = pd.read_excel(population_data)\n",
        "analyst_data_df = pd.read_excel(analyst_data)"
      ],
      "execution_count": 24,
      "outputs": []
    },
    {
      "cell_type": "code",
      "metadata": {
        "id": "ESkoaQCWxm3T",
        "outputId": "06c68a2b-02c5-432e-d555-1b1bbc3750d5",
        "colab": {
          "base_uri": "https://localhost:8080/",
          "height": 431
        }
      },
      "source": [
        "analyst_data_df.drop('SA22018_V1_00_NAME', axis=1, inplace=True)\n",
        "analyst_data_df.drop('TA2018_V1_00_NAME', axis=1, inplace=True)\n",
        "analyst_data_df.set_index('SA22018_V1_00', inplace=True)\n",
        "analyst_data_df.sort_index(ascending=True, inplace=True)\n",
        "#analyst_data_df = analyst_data_df[analyst_data_df.Ethnicity != 'Unknown']\n",
        "analyst_data_df"
      ],
      "execution_count": 25,
      "outputs": [
        {
          "output_type": "execute_result",
          "data": {
            "text/html": [
              "<div>\n",
              "<style scoped>\n",
              "    .dataframe tbody tr th:only-of-type {\n",
              "        vertical-align: middle;\n",
              "    }\n",
              "\n",
              "    .dataframe tbody tr th {\n",
              "        vertical-align: top;\n",
              "    }\n",
              "\n",
              "    .dataframe thead th {\n",
              "        text-align: right;\n",
              "    }\n",
              "</style>\n",
              "<table border=\"1\" class=\"dataframe\">\n",
              "  <thead>\n",
              "    <tr style=\"text-align: right;\">\n",
              "      <th></th>\n",
              "      <th>Ethnicity</th>\n",
              "      <th>SA2_average_NZDep2018_score</th>\n",
              "      <th>SA2_average_NZDep2018</th>\n",
              "      <th>Number_of_Tests</th>\n",
              "    </tr>\n",
              "    <tr>\n",
              "      <th>SA22018_V1_00</th>\n",
              "      <th></th>\n",
              "      <th></th>\n",
              "      <th></th>\n",
              "      <th></th>\n",
              "    </tr>\n",
              "  </thead>\n",
              "  <tbody>\n",
              "    <tr>\n",
              "      <th>100100</th>\n",
              "      <td>Maori</td>\n",
              "      <td>1134</td>\n",
              "      <td>10</td>\n",
              "      <td>849</td>\n",
              "    </tr>\n",
              "    <tr>\n",
              "      <th>100100</th>\n",
              "      <td>Unknown</td>\n",
              "      <td>1134</td>\n",
              "      <td>10</td>\n",
              "      <td>137</td>\n",
              "    </tr>\n",
              "    <tr>\n",
              "      <th>100100</th>\n",
              "      <td>Pacific</td>\n",
              "      <td>1134</td>\n",
              "      <td>10</td>\n",
              "      <td>528</td>\n",
              "    </tr>\n",
              "    <tr>\n",
              "      <th>100100</th>\n",
              "      <td>Other</td>\n",
              "      <td>1134</td>\n",
              "      <td>10</td>\n",
              "      <td>543</td>\n",
              "    </tr>\n",
              "    <tr>\n",
              "      <th>100200</th>\n",
              "      <td>Maori</td>\n",
              "      <td>1105</td>\n",
              "      <td>9</td>\n",
              "      <td>493</td>\n",
              "    </tr>\n",
              "    <tr>\n",
              "      <th>...</th>\n",
              "      <td>...</td>\n",
              "      <td>...</td>\n",
              "      <td>...</td>\n",
              "      <td>...</td>\n",
              "    </tr>\n",
              "    <tr>\n",
              "      <th>363300</th>\n",
              "      <td>Asian</td>\n",
              "      <td>1056</td>\n",
              "      <td>8</td>\n",
              "      <td>210</td>\n",
              "    </tr>\n",
              "    <tr>\n",
              "      <th>363300</th>\n",
              "      <td>Maori</td>\n",
              "      <td>1056</td>\n",
              "      <td>8</td>\n",
              "      <td>634</td>\n",
              "    </tr>\n",
              "    <tr>\n",
              "      <th>363300</th>\n",
              "      <td>Other</td>\n",
              "      <td>1056</td>\n",
              "      <td>8</td>\n",
              "      <td>742</td>\n",
              "    </tr>\n",
              "    <tr>\n",
              "      <th>363300</th>\n",
              "      <td>Unknown</td>\n",
              "      <td>1056</td>\n",
              "      <td>8</td>\n",
              "      <td>345</td>\n",
              "    </tr>\n",
              "    <tr>\n",
              "      <th>363300</th>\n",
              "      <td>Pacific</td>\n",
              "      <td>1056</td>\n",
              "      <td>8</td>\n",
              "      <td>535</td>\n",
              "    </tr>\n",
              "  </tbody>\n",
              "</table>\n",
              "<p>9758 rows × 4 columns</p>\n",
              "</div>"
            ],
            "text/plain": [
              "              Ethnicity  ...  Number_of_Tests\n",
              "SA22018_V1_00            ...                 \n",
              "100100            Maori  ...              849\n",
              "100100          Unknown  ...              137\n",
              "100100          Pacific  ...              528\n",
              "100100            Other  ...              543\n",
              "100200            Maori  ...              493\n",
              "...                 ...  ...              ...\n",
              "363300            Asian  ...              210\n",
              "363300            Maori  ...              634\n",
              "363300            Other  ...              742\n",
              "363300          Unknown  ...              345\n",
              "363300          Pacific  ...              535\n",
              "\n",
              "[9758 rows x 4 columns]"
            ]
          },
          "metadata": {
            "tags": []
          },
          "execution_count": 25
        }
      ]
    },
    {
      "cell_type": "code",
      "metadata": {
        "id": "rS8hqcf8xu5R",
        "outputId": "5aa5e382-09e4-4ed2-bd9a-d0fa56dae5a7",
        "colab": {
          "base_uri": "https://localhost:8080/",
          "height": 431
        }
      },
      "source": [
        "population_data_df.set_index('SA22018_V1_00_NAME', inplace=True)\n",
        "population_data_df.sort_index(ascending=True, inplace=True)\n",
        "population_data_df"
      ],
      "execution_count": 26,
      "outputs": [
        {
          "output_type": "execute_result",
          "data": {
            "text/html": [
              "<div>\n",
              "<style scoped>\n",
              "    .dataframe tbody tr th:only-of-type {\n",
              "        vertical-align: middle;\n",
              "    }\n",
              "\n",
              "    .dataframe tbody tr th {\n",
              "        vertical-align: top;\n",
              "    }\n",
              "\n",
              "    .dataframe thead th {\n",
              "        text-align: right;\n",
              "    }\n",
              "</style>\n",
              "<table border=\"1\" class=\"dataframe\">\n",
              "  <thead>\n",
              "    <tr style=\"text-align: right;\">\n",
              "      <th></th>\n",
              "      <th>Ethnicity</th>\n",
              "      <th>Census_2019_Population_Estimate</th>\n",
              "    </tr>\n",
              "    <tr>\n",
              "      <th>SA22018_V1_00_NAME</th>\n",
              "      <th></th>\n",
              "      <th></th>\n",
              "    </tr>\n",
              "  </thead>\n",
              "  <tbody>\n",
              "    <tr>\n",
              "      <th>100100</th>\n",
              "      <td>Asian</td>\n",
              "      <td>17.258065</td>\n",
              "    </tr>\n",
              "    <tr>\n",
              "      <th>100100</th>\n",
              "      <td>Maori</td>\n",
              "      <td>784.009217</td>\n",
              "    </tr>\n",
              "    <tr>\n",
              "      <th>100100</th>\n",
              "      <td>Other</td>\n",
              "      <td>732.235023</td>\n",
              "    </tr>\n",
              "    <tr>\n",
              "      <th>100100</th>\n",
              "      <td>Pacific</td>\n",
              "      <td>71.497696</td>\n",
              "    </tr>\n",
              "    <tr>\n",
              "      <th>100200</th>\n",
              "      <td>Asian</td>\n",
              "      <td>37.555874</td>\n",
              "    </tr>\n",
              "    <tr>\n",
              "      <th>...</th>\n",
              "      <td>...</td>\n",
              "      <td>...</td>\n",
              "    </tr>\n",
              "    <tr>\n",
              "      <th>363100</th>\n",
              "      <td>Pacific</td>\n",
              "      <td>10.572687</td>\n",
              "    </tr>\n",
              "    <tr>\n",
              "      <th>363300</th>\n",
              "      <td>Asian</td>\n",
              "      <td>15.665006</td>\n",
              "    </tr>\n",
              "    <tr>\n",
              "      <th>363300</th>\n",
              "      <td>Maori</td>\n",
              "      <td>640.027397</td>\n",
              "    </tr>\n",
              "    <tr>\n",
              "      <th>363300</th>\n",
              "      <td>Other</td>\n",
              "      <td>1060.744707</td>\n",
              "    </tr>\n",
              "    <tr>\n",
              "      <th>363300</th>\n",
              "      <td>Pacific</td>\n",
              "      <td>80.562889</td>\n",
              "    </tr>\n",
              "  </tbody>\n",
              "</table>\n",
              "<p>8608 rows × 2 columns</p>\n",
              "</div>"
            ],
            "text/plain": [
              "                   Ethnicity  Census_2019_Population_Estimate\n",
              "SA22018_V1_00_NAME                                           \n",
              "100100                 Asian                        17.258065\n",
              "100100                 Maori                       784.009217\n",
              "100100                 Other                       732.235023\n",
              "100100               Pacific                        71.497696\n",
              "100200                 Asian                        37.555874\n",
              "...                      ...                              ...\n",
              "363100               Pacific                        10.572687\n",
              "363300                 Asian                        15.665006\n",
              "363300                 Maori                       640.027397\n",
              "363300                 Other                      1060.744707\n",
              "363300               Pacific                        80.562889\n",
              "\n",
              "[8608 rows x 2 columns]"
            ]
          },
          "metadata": {
            "tags": []
          },
          "execution_count": 26
        }
      ]
    },
    {
      "cell_type": "code",
      "metadata": {
        "id": "rCU3y61_CDtz"
      },
      "source": [
        "population_index = np.unique(population_data_df.index).tolist()\n",
        "analyst_index = np.unique(analyst_data_df.index).tolist()\n",
        "new_index = list(set(population_index).intersection(set(analyst_index)))"
      ],
      "execution_count": 27,
      "outputs": []
    },
    {
      "cell_type": "code",
      "metadata": {
        "id": "F5qUosgVHpnV",
        "outputId": "220352eb-12aa-4407-a3b3-20610b169b70",
        "colab": {
          "base_uri": "https://localhost:8080/",
          "height": 431
        }
      },
      "source": [
        "df = pd.DataFrame(columns=['SA22018_V1_00', 'Number_of_Tests', 'Population_Estimate', 'SA2_average_NZDep2018', 'Tests_per_Population'])\n",
        "df['SA22018_V1_00'] = new_index\n",
        "df.set_index('SA22018_V1_00', inplace=True)\n",
        "df.sort_index(ascending=True, inplace=True)\n",
        "for i in new_index:\n",
        "  df.at[i, 'Number_of_Tests'] = analyst_data_df.loc[i, 'Number_of_Tests'].sum()\n",
        "  df.at[i, 'Population_Estimate'] = population_data_df.loc[i, 'Census_2019_Population_Estimate'].sum()\n",
        "  df.at[i, 'SA2_average_NZDep2018'] = int(np.mean(analyst_data_df.loc[i, 'SA2_average_NZDep2018']))\n",
        "for i in new_index:\n",
        "  df.at[i, 'Tests_per_Population'] = df.at[i, 'Number_of_Tests']/df.at[i, 'Population_Estimate']\n",
        "df"
      ],
      "execution_count": 28,
      "outputs": [
        {
          "output_type": "execute_result",
          "data": {
            "text/html": [
              "<div>\n",
              "<style scoped>\n",
              "    .dataframe tbody tr th:only-of-type {\n",
              "        vertical-align: middle;\n",
              "    }\n",
              "\n",
              "    .dataframe tbody tr th {\n",
              "        vertical-align: top;\n",
              "    }\n",
              "\n",
              "    .dataframe thead th {\n",
              "        text-align: right;\n",
              "    }\n",
              "</style>\n",
              "<table border=\"1\" class=\"dataframe\">\n",
              "  <thead>\n",
              "    <tr style=\"text-align: right;\">\n",
              "      <th></th>\n",
              "      <th>Number_of_Tests</th>\n",
              "      <th>Population_Estimate</th>\n",
              "      <th>SA2_average_NZDep2018</th>\n",
              "      <th>Tests_per_Population</th>\n",
              "    </tr>\n",
              "    <tr>\n",
              "      <th>SA22018_V1_00</th>\n",
              "      <th></th>\n",
              "      <th></th>\n",
              "      <th></th>\n",
              "      <th></th>\n",
              "    </tr>\n",
              "  </thead>\n",
              "  <tbody>\n",
              "    <tr>\n",
              "      <th>100100</th>\n",
              "      <td>2057</td>\n",
              "      <td>1605</td>\n",
              "      <td>10</td>\n",
              "      <td>1.28162</td>\n",
              "    </tr>\n",
              "    <tr>\n",
              "      <th>100200</th>\n",
              "      <td>1768</td>\n",
              "      <td>2313</td>\n",
              "      <td>9</td>\n",
              "      <td>0.764375</td>\n",
              "    </tr>\n",
              "    <tr>\n",
              "      <th>100400</th>\n",
              "      <td>2968</td>\n",
              "      <td>1248</td>\n",
              "      <td>8</td>\n",
              "      <td>2.37821</td>\n",
              "    </tr>\n",
              "    <tr>\n",
              "      <th>100500</th>\n",
              "      <td>4456</td>\n",
              "      <td>1134</td>\n",
              "      <td>9</td>\n",
              "      <td>3.92945</td>\n",
              "    </tr>\n",
              "    <tr>\n",
              "      <th>100600</th>\n",
              "      <td>1154</td>\n",
              "      <td>1230</td>\n",
              "      <td>9</td>\n",
              "      <td>0.938211</td>\n",
              "    </tr>\n",
              "    <tr>\n",
              "      <th>...</th>\n",
              "      <td>...</td>\n",
              "      <td>...</td>\n",
              "      <td>...</td>\n",
              "      <td>...</td>\n",
              "    </tr>\n",
              "    <tr>\n",
              "      <th>362800</th>\n",
              "      <td>2965</td>\n",
              "      <td>1284</td>\n",
              "      <td>9</td>\n",
              "      <td>2.30919</td>\n",
              "    </tr>\n",
              "    <tr>\n",
              "      <th>362900</th>\n",
              "      <td>2870</td>\n",
              "      <td>2229</td>\n",
              "      <td>8</td>\n",
              "      <td>1.28757</td>\n",
              "    </tr>\n",
              "    <tr>\n",
              "      <th>363000</th>\n",
              "      <td>2830</td>\n",
              "      <td>1500</td>\n",
              "      <td>9</td>\n",
              "      <td>1.88667</td>\n",
              "    </tr>\n",
              "    <tr>\n",
              "      <th>363100</th>\n",
              "      <td>2353</td>\n",
              "      <td>1200</td>\n",
              "      <td>6</td>\n",
              "      <td>1.96083</td>\n",
              "    </tr>\n",
              "    <tr>\n",
              "      <th>363300</th>\n",
              "      <td>2466</td>\n",
              "      <td>1797</td>\n",
              "      <td>8</td>\n",
              "      <td>1.37229</td>\n",
              "    </tr>\n",
              "  </tbody>\n",
              "</table>\n",
              "<p>2127 rows × 4 columns</p>\n",
              "</div>"
            ],
            "text/plain": [
              "              Number_of_Tests  ... Tests_per_Population\n",
              "SA22018_V1_00                  ...                     \n",
              "100100                   2057  ...              1.28162\n",
              "100200                   1768  ...             0.764375\n",
              "100400                   2968  ...              2.37821\n",
              "100500                   4456  ...              3.92945\n",
              "100600                   1154  ...             0.938211\n",
              "...                       ...  ...                  ...\n",
              "362800                   2965  ...              2.30919\n",
              "362900                   2870  ...              1.28757\n",
              "363000                   2830  ...              1.88667\n",
              "363100                   2353  ...              1.96083\n",
              "363300                   2466  ...              1.37229\n",
              "\n",
              "[2127 rows x 4 columns]"
            ]
          },
          "metadata": {
            "tags": []
          },
          "execution_count": 28
        }
      ]
    },
    {
      "cell_type": "code",
      "metadata": {
        "id": "hJ3DALBn_txb",
        "outputId": "5d0344fb-01e4-4a16-d7cd-409a9ae83d02",
        "colab": {
          "base_uri": "https://localhost:8080/",
          "height": 373
        }
      },
      "source": [
        "df_test = copy.deepcopy(df)\n",
        "df_test.set_index('SA2_average_NZDep2018', inplace=True)\n",
        "df_test.sort_index(ascending=True, inplace=True)\n",
        "df_test_index = np.unique(df_test.index).tolist()\n",
        "df_deprivation = pd.DataFrame(columns=['SA2_average_NZDep2018', 'Tests_per_1000'])\n",
        "df_deprivation['SA2_average_NZDep2018'] = df_test_index\n",
        "df_deprivation.set_index('SA2_average_NZDep2018', inplace=True)\n",
        "for i in df_test_index:\n",
        "  df_deprivation.at[i, 'Tests_per_1000'] = np.mean(df_test.loc[i, 'Tests_per_Population']) * 1000\n",
        "df_deprivation"
      ],
      "execution_count": 29,
      "outputs": [
        {
          "output_type": "execute_result",
          "data": {
            "text/html": [
              "<div>\n",
              "<style scoped>\n",
              "    .dataframe tbody tr th:only-of-type {\n",
              "        vertical-align: middle;\n",
              "    }\n",
              "\n",
              "    .dataframe tbody tr th {\n",
              "        vertical-align: top;\n",
              "    }\n",
              "\n",
              "    .dataframe thead th {\n",
              "        text-align: right;\n",
              "    }\n",
              "</style>\n",
              "<table border=\"1\" class=\"dataframe\">\n",
              "  <thead>\n",
              "    <tr style=\"text-align: right;\">\n",
              "      <th></th>\n",
              "      <th>Tests_per_1000</th>\n",
              "    </tr>\n",
              "    <tr>\n",
              "      <th>SA2_average_NZDep2018</th>\n",
              "      <th></th>\n",
              "    </tr>\n",
              "  </thead>\n",
              "  <tbody>\n",
              "    <tr>\n",
              "      <th>1</th>\n",
              "      <td>1438.95</td>\n",
              "    </tr>\n",
              "    <tr>\n",
              "      <th>2</th>\n",
              "      <td>1391.25</td>\n",
              "    </tr>\n",
              "    <tr>\n",
              "      <th>3</th>\n",
              "      <td>1388.88</td>\n",
              "    </tr>\n",
              "    <tr>\n",
              "      <th>4</th>\n",
              "      <td>1244.08</td>\n",
              "    </tr>\n",
              "    <tr>\n",
              "      <th>5</th>\n",
              "      <td>1484.09</td>\n",
              "    </tr>\n",
              "    <tr>\n",
              "      <th>6</th>\n",
              "      <td>1789.45</td>\n",
              "    </tr>\n",
              "    <tr>\n",
              "      <th>7</th>\n",
              "      <td>1667.79</td>\n",
              "    </tr>\n",
              "    <tr>\n",
              "      <th>8</th>\n",
              "      <td>1987.32</td>\n",
              "    </tr>\n",
              "    <tr>\n",
              "      <th>9</th>\n",
              "      <td>2147.6</td>\n",
              "    </tr>\n",
              "    <tr>\n",
              "      <th>10</th>\n",
              "      <td>2045.29</td>\n",
              "    </tr>\n",
              "  </tbody>\n",
              "</table>\n",
              "</div>"
            ],
            "text/plain": [
              "                      Tests_per_1000\n",
              "SA2_average_NZDep2018               \n",
              "1                            1438.95\n",
              "2                            1391.25\n",
              "3                            1388.88\n",
              "4                            1244.08\n",
              "5                            1484.09\n",
              "6                            1789.45\n",
              "7                            1667.79\n",
              "8                            1987.32\n",
              "9                             2147.6\n",
              "10                           2045.29"
            ]
          },
          "metadata": {
            "tags": []
          },
          "execution_count": 29
        }
      ]
    },
    {
      "cell_type": "code",
      "metadata": {
        "id": "n7Ty2CT2BB6a",
        "outputId": "eab041fa-0e52-4085-a971-0b3ab55e8bde",
        "colab": {
          "base_uri": "https://localhost:8080/",
          "height": 299
        }
      },
      "source": [
        "import matplotlib.pyplot as plt\n",
        "%matplotlib inline\n",
        "plt.style.use('ggplot')\n",
        "\n",
        "y = df_deprivation['Tests_per_1000'].tolist()\n",
        "x = df_deprivation.index.tolist()\n",
        "\n",
        "x_pos = [i for i, _ in enumerate(x)]\n",
        "\n",
        "plt.bar(x_pos, y, color='green')\n",
        "plt.xlabel(\"NZDep2018 index of deprivation ordinal scale numbers\")\n",
        "plt.ylabel(\"Tests per 1000\")\n",
        "plt.title(\"Deprivation stats\")\n",
        "\n",
        "plt.xticks(x_pos, x)\n",
        "\n",
        "plt.show()"
      ],
      "execution_count": 30,
      "outputs": [
        {
          "output_type": "display_data",
          "data": {
            "image/png": "[encoded data removed]",
            "text/plain": [
              "<Figure size 432x288 with 1 Axes>"
            ]
          },
          "metadata": {
            "tags": []
          }
        }
      ]
    },
    {
      "cell_type": "code",
      "metadata": {
        "id": "qKGqomYYRwR2",
        "outputId": "0596d561-c09a-4511-b49c-f31beac60dab",
        "colab": {
          "base_uri": "https://localhost:8080/",
          "height": 402
        }
      },
      "source": [
        "df_next = pd.DataFrame(columns=['Ethnicity', 'SA2_average_NZDep2018_score', 'SA2_average_NZDep2018', 'Number_of_Tests'])\n",
        "df_next2 = pd.DataFrame(columns=['Ethnicity', 'Census_2019_Population_Estimate'])\n",
        "pop_index = population_data_df.index.tolist()\n",
        "#analyst_data_df2 = analyst_data_df[analyst_data_df.Ethnicity != 'Unknown']\n",
        "analyst_data_df2 = copy.deepcopy(analyst_data_df)\n",
        "analyst2_index = analyst_data_df2.index.tolist()\n",
        "created_index = list(set(pop_index).intersection(set(analyst2_index)))\n",
        "for i in sorted(created_index):\n",
        "  df_temp = analyst_data_df2[analyst_data_df2.index == i]\n",
        "  df_next = pd.concat([df_next, df_temp])\n",
        "analyst_data_df2 = copy.deepcopy(df_next)\n",
        "for i in sorted(created_index):\n",
        "  df_temp = population_data_df[population_data_df.index == i]\n",
        "  df_next2 = pd.concat([df_next2, df_temp])\n",
        "population_data_df2 = copy.deepcopy(df_next2)\n",
        "analyst_data_df2"
      ],
      "execution_count": 31,
      "outputs": [
        {
          "output_type": "execute_result",
          "data": {
            "text/html": [
              "<div>\n",
              "<style scoped>\n",
              "    .dataframe tbody tr th:only-of-type {\n",
              "        vertical-align: middle;\n",
              "    }\n",
              "\n",
              "    .dataframe tbody tr th {\n",
              "        vertical-align: top;\n",
              "    }\n",
              "\n",
              "    .dataframe thead th {\n",
              "        text-align: right;\n",
              "    }\n",
              "</style>\n",
              "<table border=\"1\" class=\"dataframe\">\n",
              "  <thead>\n",
              "    <tr style=\"text-align: right;\">\n",
              "      <th></th>\n",
              "      <th>Ethnicity</th>\n",
              "      <th>SA2_average_NZDep2018_score</th>\n",
              "      <th>SA2_average_NZDep2018</th>\n",
              "      <th>Number_of_Tests</th>\n",
              "    </tr>\n",
              "  </thead>\n",
              "  <tbody>\n",
              "    <tr>\n",
              "      <th>100100</th>\n",
              "      <td>Maori</td>\n",
              "      <td>1134</td>\n",
              "      <td>10</td>\n",
              "      <td>849</td>\n",
              "    </tr>\n",
              "    <tr>\n",
              "      <th>100100</th>\n",
              "      <td>Unknown</td>\n",
              "      <td>1134</td>\n",
              "      <td>10</td>\n",
              "      <td>137</td>\n",
              "    </tr>\n",
              "    <tr>\n",
              "      <th>100100</th>\n",
              "      <td>Pacific</td>\n",
              "      <td>1134</td>\n",
              "      <td>10</td>\n",
              "      <td>528</td>\n",
              "    </tr>\n",
              "    <tr>\n",
              "      <th>100100</th>\n",
              "      <td>Other</td>\n",
              "      <td>1134</td>\n",
              "      <td>10</td>\n",
              "      <td>543</td>\n",
              "    </tr>\n",
              "    <tr>\n",
              "      <th>100200</th>\n",
              "      <td>Maori</td>\n",
              "      <td>1105</td>\n",
              "      <td>9</td>\n",
              "      <td>493</td>\n",
              "    </tr>\n",
              "    <tr>\n",
              "      <th>...</th>\n",
              "      <td>...</td>\n",
              "      <td>...</td>\n",
              "      <td>...</td>\n",
              "      <td>...</td>\n",
              "    </tr>\n",
              "    <tr>\n",
              "      <th>363300</th>\n",
              "      <td>Asian</td>\n",
              "      <td>1056</td>\n",
              "      <td>8</td>\n",
              "      <td>210</td>\n",
              "    </tr>\n",
              "    <tr>\n",
              "      <th>363300</th>\n",
              "      <td>Maori</td>\n",
              "      <td>1056</td>\n",
              "      <td>8</td>\n",
              "      <td>634</td>\n",
              "    </tr>\n",
              "    <tr>\n",
              "      <th>363300</th>\n",
              "      <td>Other</td>\n",
              "      <td>1056</td>\n",
              "      <td>8</td>\n",
              "      <td>742</td>\n",
              "    </tr>\n",
              "    <tr>\n",
              "      <th>363300</th>\n",
              "      <td>Unknown</td>\n",
              "      <td>1056</td>\n",
              "      <td>8</td>\n",
              "      <td>345</td>\n",
              "    </tr>\n",
              "    <tr>\n",
              "      <th>363300</th>\n",
              "      <td>Pacific</td>\n",
              "      <td>1056</td>\n",
              "      <td>8</td>\n",
              "      <td>535</td>\n",
              "    </tr>\n",
              "  </tbody>\n",
              "</table>\n",
              "<p>9758 rows × 4 columns</p>\n",
              "</div>"
            ],
            "text/plain": [
              "       Ethnicity  ... Number_of_Tests\n",
              "100100     Maori  ...             849\n",
              "100100   Unknown  ...             137\n",
              "100100   Pacific  ...             528\n",
              "100100     Other  ...             543\n",
              "100200     Maori  ...             493\n",
              "...          ...  ...             ...\n",
              "363300     Asian  ...             210\n",
              "363300     Maori  ...             634\n",
              "363300     Other  ...             742\n",
              "363300   Unknown  ...             345\n",
              "363300   Pacific  ...             535\n",
              "\n",
              "[9758 rows x 4 columns]"
            ]
          },
          "metadata": {
            "tags": []
          },
          "execution_count": 31
        }
      ]
    },
    {
      "cell_type": "code",
      "metadata": {
        "id": "OYYVneBuFm4t",
        "outputId": "99a46650-a7e3-4f68-f724-bdce42000f49",
        "colab": {
          "base_uri": "https://localhost:8080/",
          "height": 34
        }
      },
      "source": [
        "population_data_asian_df = population_data_df2[population_data_df2.Ethnicity == 'Asian']\n",
        "asian_total_population = population_data_asian_df['Census_2019_Population_Estimate'].sum()\n",
        "analyst_data_asian_df = analyst_data_df2[analyst_data_df2.Ethnicity == 'Asian']\n",
        "asian_total_tests = analyst_data_asian_df['Number_of_Tests'].sum()\n",
        "(asian_total_tests/asian_total_population) * 1000"
      ],
      "execution_count": 32,
      "outputs": [
        {
          "output_type": "execute_result",
          "data": {
            "text/plain": [
              "1755.580142617363"
            ]
          },
          "metadata": {
            "tags": []
          },
          "execution_count": 32
        }
      ]
    },
    {
      "cell_type": "code",
      "metadata": {
        "id": "xZIrq8R9OQCX",
        "outputId": "11cca44a-f9d5-41d7-d238-b1751b85beac",
        "colab": {
          "base_uri": "https://localhost:8080/",
          "height": 34
        }
      },
      "source": [
        "population_data_maori_df = population_data_df2[population_data_df2.Ethnicity == 'Maori']\n",
        "maori_total_population = population_data_maori_df['Census_2019_Population_Estimate'].sum()\n",
        "analyst_data_maori_df = analyst_data_df2[analyst_data_df2.Ethnicity == 'Maori']\n",
        "maori_total_tests = analyst_data_maori_df['Number_of_Tests'].sum()\n",
        "(maori_total_tests/maori_total_population) * 1000"
      ],
      "execution_count": 33,
      "outputs": [
        {
          "output_type": "execute_result",
          "data": {
            "text/plain": [
              "1500.433072810388"
            ]
          },
          "metadata": {
            "tags": []
          },
          "execution_count": 33
        }
      ]
    },
    {
      "cell_type": "code",
      "metadata": {
        "id": "lS0igQKLXlM2",
        "outputId": "c65ba26e-fb66-42c4-e1b3-278f1c638d0e",
        "colab": {
          "base_uri": "https://localhost:8080/",
          "height": 34
        }
      },
      "source": [
        "population_data_pacific_df = population_data_df2[population_data_df2.Ethnicity == 'Pacific']\n",
        "pacific_total_population = population_data_pacific_df['Census_2019_Population_Estimate'].sum()\n",
        "analyst_data_pacific_df = analyst_data_df2[analyst_data_df2.Ethnicity == 'Pacific']\n",
        "pacific_total_tests = analyst_data_pacific_df['Number_of_Tests'].sum()\n",
        "(pacific_total_tests/pacific_total_population) * 1000"
      ],
      "execution_count": 34,
      "outputs": [
        {
          "output_type": "execute_result",
          "data": {
            "text/plain": [
              "3322.5770463516537"
            ]
          },
          "metadata": {
            "tags": []
          },
          "execution_count": 34
        }
      ]
    },
    {
      "cell_type": "code",
      "metadata": {
        "id": "6InmCJmsdwRW",
        "outputId": "2620928d-eff1-4ad0-fd81-c1d426088587",
        "colab": {
          "base_uri": "https://localhost:8080/",
          "height": 34
        }
      },
      "source": [
        "population_data_other_df = population_data_df2[population_data_df2.Ethnicity == 'Other']\n",
        "other_total_population = population_data_other_df['Census_2019_Population_Estimate'].sum()\n",
        "analyst_data_other_df = analyst_data_df2[analyst_data_df2.Ethnicity == 'Other']\n",
        "analyst_data_unknown_df = analyst_data_df2[analyst_data_df2.Ethnicity == 'Unknown']\n",
        "other_total_tests = analyst_data_other_df['Number_of_Tests'].sum() + analyst_data_unknown_df['Number_of_Tests'].sum()\n",
        "(other_total_tests/other_total_population) * 1000"
      ],
      "execution_count": 35,
      "outputs": [
        {
          "output_type": "execute_result",
          "data": {
            "text/plain": [
              "673.858264121817"
            ]
          },
          "metadata": {
            "tags": []
          },
          "execution_count": 35
        }
      ]
    },
    {
      "cell_type": "code",
      "metadata": {
        "id": "8xCVN0_Qd8xl",
        "outputId": "53d51e04-9597-4de8-e5c9-5b70ecb14377",
        "colab": {
          "base_uri": "https://localhost:8080/",
          "height": 299
        }
      },
      "source": [
        "import matplotlib.pyplot as plt\n",
        "%matplotlib inline\n",
        "plt.style.use('ggplot')\n",
        "\n",
        "y = [1755.58, 1500.433, 3322.577, 673.858]\n",
        "x = ['Asian', 'Maori', 'Pacific', 'Other']\n",
        "\n",
        "x_pos = [i for i, _ in enumerate(x)]\n",
        "\n",
        "plt.bar(x_pos, y, color='green')\n",
        "plt.xlabel(\"Ethnicity\")\n",
        "plt.ylabel(\"Tests per 1000\")\n",
        "plt.title(\"Ethnicity Stats\")\n",
        "\n",
        "plt.xticks(x_pos, x)\n",
        "\n",
        "plt.show()"
      ],
      "execution_count": 36,
      "outputs": [
        {
          "output_type": "display_data",
          "data": {
            "image/png": "[encoded data removed]",
            "text/plain": [
              "<Figure size 432x288 with 1 Axes>"
            ]
          },
          "metadata": {
            "tags": []
          }
        }
      ]
    },
    {
      "cell_type": "code",
      "metadata": {
        "id": "tJEIrigHiFF-"
      },
      "source": [
        ""
      ],
      "execution_count": 36,
      "outputs": []
    }
  ]
}