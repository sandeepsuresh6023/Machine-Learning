{
  "nbformat": 4,
  "nbformat_minor": 0,
  "metadata": {
    "colab": {
      "name": "program.ipynb",
      "provenance": [],
      "collapsed_sections": [],
      "authorship_tag": "ABX9TyMeCDp95XcD8HySqTMkqj0k"
    },
    "kernelspec": {
      "name": "python3",
      "display_name": "Python 3"
    }
  },
  "cells": [
    {
      "cell_type": "code",
      "metadata": {
        "id": "WFAYtiQjMpwu"
      },
      "source": [
        "import numpy as np\r\n",
        "import time\r\n",
        "import os\r\n",
        "import tracemalloc"
      ],
      "execution_count": 576,
      "outputs": []
    },
    {
      "cell_type": "code",
      "metadata": {
        "id": "Po9Tt24np_b5"
      },
      "source": [
        "def screen_clear():\r\n",
        "   # for mac and linux(here, os.name is 'posix')\r\n",
        "   if os.name == 'posix':\r\n",
        "      _ = os.system('clear')\r\n",
        "   else:\r\n",
        "      # for windows platfrom\r\n",
        "      _ = os.system('cls')"
      ],
      "execution_count": 577,
      "outputs": []
    },
    {
      "cell_type": "code",
      "metadata": {
        "id": "LiEMcum8On5n"
      },
      "source": [
        "def random_input_generator(lower_bound=-100, upper_bound=100, sd=250):\r\n",
        "  #Function to generate random inputs to test the counter\r\n",
        "  #Python float size is 64 bit. So there are a lot of numbers it can generate between any two limits.\r\n",
        "  #Therefore simply calling random numbers between the limits doesn't guarantee repetition in inputs.\r\n",
        "  #Hence 50 random numbers were generated. 30 float and 20 integers. This function randomly returns one of the 50 numbers when it's called.\r\n",
        "  np.random.seed(seed=250)\r\n",
        "  r_array1 = np.random.uniform(lower_bound,upper_bound,30)\r\n",
        "  r_array2 = np.random.randint(lower_bound,upper_bound,20)\r\n",
        "  r_array = np.concatenate([r_array1,r_array2])\r\n",
        "  np.random.seed(seed=None)\r\n",
        "  return np.random.choice(r_array)"
      ],
      "execution_count": 578,
      "outputs": []
    },
    {
      "cell_type": "code",
      "metadata": {
        "id": "lfCfqTz841ln"
      },
      "source": [
        "#buffer and i are the only two global variables.\r\n",
        "#buffer keeps track of the last 500 input values.\r\n",
        "#i keeps track of how many inputs were provided in total until now.\r\n",
        "buffer = np.empty([500])\r\n",
        "buffer[:] = np.nan\r\n",
        "i = 0"
      ],
      "execution_count": 579,
      "outputs": []
    },
    {
      "cell_type": "code",
      "metadata": {
        "id": "ervGX_vLhmOf"
      },
      "source": [
        "#Lists, tuples and dictionaries are completely avoided to save memory.\r\n",
        "#NumPy is written in C, and executes very quickly as a result.\r\n",
        "#Hence all storage elements are numpy arrays which are very similar to C arrays.\r\n",
        "\r\n",
        "def count_function(input_value, k=10):\r\n",
        "  #The actual counter function that tracks the k most frequent numbers\r\n",
        "  global buffer, i\r\n",
        "\r\n",
        "  ###This commented out piece of code is for filling up the buffer for testing purposes\r\n",
        "  #while(i < 5):\r\n",
        "  #  buffer[:-1] = buffer[1:]; buffer[-1] = random_input_generator()\r\n",
        "  #  i = i + 1\r\n",
        "  #i = i - 1\r\n",
        "\r\n",
        "  #This if statement is used to add elements to the buffer.\r\n",
        "  #First 500 elements fill up the buffer.\r\n",
        "  #Afterwards the first element is removed everytime a new element is added.\r\n",
        "  if i > 500:\r\n",
        "    buffer[:-1] = buffer[1:]; buffer[-1] = input_value\r\n",
        "    unique, counts = np.unique(buffer, return_counts=True)\r\n",
        "    i = i + 1\r\n",
        "  else:\r\n",
        "    buffer[:-1] = buffer[1:]; buffer[-1] = input_value\r\n",
        "    buffer_new = buffer[~np.isnan(buffer)]\r\n",
        "    unique, counts = np.unique(buffer_new, return_counts=True)\r\n",
        "    i = i + 1\r\n",
        "  \r\n",
        "  #Two seperate arrays keep track of the variables (element_array) and its count (count_array)\r\n",
        "  #The size of both arrays is k.\r\n",
        "  count_array = np.empty([k])\r\n",
        "  count_array[:] = np.nan\r\n",
        "  element_array = np.empty([k])\r\n",
        "  element_array[:] = np.nan\r\n",
        "  \r\n",
        "  if i < 10:\r\n",
        "    k = i\r\n",
        "  v = 0\r\n",
        "  while(v < k):\r\n",
        "    if counts.size == 0:\r\n",
        "      #If all the values in the counts container gets deleted, the following np.nanmax function fails.\r\n",
        "      #The break statement here avoids that.\r\n",
        "      break\r\n",
        "    result = np.where(counts == np.nanmax(counts))\r\n",
        "    #np.where returns the index value of the largest element in the array.\r\n",
        "    #If more largest element repeats multiple times it returns an array of all the corresponding index values.\r\n",
        "    for m in result[0]:\r\n",
        "      count_array[v] = np.nanmax(counts)\r\n",
        "      element_array[v] = unique[m]\r\n",
        "      v = v + 1\r\n",
        "      if v >= 10:\r\n",
        "        break\r\n",
        "    counts = np.delete(counts, result[0])\r\n",
        "    unique = np.delete(unique, result[0])\r\n",
        "\r\n",
        "  return element_array, count_array"
      ],
      "execution_count": 580,
      "outputs": []
    },
    {
      "cell_type": "code",
      "metadata": {
        "id": "o0PlOdplYzIC"
      },
      "source": [
        "#Set the number of inputs to be provided.\r\n",
        "number_of_inputs = 10000\r\n",
        "num = 1\r\n",
        "while(num <= 10000):\r\n",
        "  #tracemalloc is used to measure memory consumption.\r\n",
        "  tracemalloc.start()\r\n",
        "  a, b = count_function(random_input_generator())\r\n",
        "  current, peak = tracemalloc.get_traced_memory()\r\n",
        "  print(f\"Current memory usage is {current / 10**6}MB; Peak was {peak / 10**6}MB\")\r\n",
        "  tracemalloc.stop()\r\n",
        "  print(\"\")\r\n",
        "  a = a[~np.isnan(a)]\r\n",
        "  b = b[~np.isnan(b)]\r\n",
        "  for p in range(len(a)):\r\n",
        "    print(str(a[p])+\": \"+str(b[p])+\" times\")\r\n",
        "  print(\"\\n\")\r\n",
        "  time.sleep(2)\r\n",
        "  screen_clear()\r\n",
        "  num = num + 1"
      ],
      "execution_count": null,
      "outputs": []
    },
    {
      "cell_type": "code",
      "metadata": {
        "id": "p_gcKxlqGGq2"
      },
      "source": [
        ""
      ],
      "execution_count": null,
      "outputs": []
    }
  ]
}